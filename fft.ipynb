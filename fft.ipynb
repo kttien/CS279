{
 "cells": [
  {
   "cell_type": "code",
   "execution_count": 4,
   "metadata": {},
   "outputs": [],
   "source": [
    "# %load fft.py\n",
    "'''Contains functions for Fast Fourier Transform'''\n",
    "from cmath import exp, pi\n",
    "import time\n",
    "import numpy as np\n",
    " \n",
    "\n",
    "def dft1D(x):\n",
    "    x = np.asarray(x, dtype=float)\n",
    "    N = x.shape[0]\n",
    "    n = np.arange(N)\n",
    "    k = n.reshape((N, 1))\n",
    "    M = np.exp(-2j * np.pi * k * n / N)\n",
    "    return np.dot(M, x)"
   ]
  },
  {
   "cell_type": "code",
   "execution_count": 36,
   "metadata": {},
   "outputs": [],
   "source": [
    "def my_dft1D(x):\n",
    "    N = len(x)\n",
    "    results = []\n",
    "    for k in range(0, N - 1):\n",
    "        signal = 0\n",
    "        for n in range(0, N - 1):\n",
    "            signal += x[n]*np.exp(-2j*np.pi*n*k/N)\n",
    "        results.append(signal)\n",
    "    return results"
   ]
  },
  {
   "cell_type": "code",
   "execution_count": 41,
   "metadata": {},
   "outputs": [
    {
     "ename": "TypeError",
     "evalue": "Argument given by name ('shape') and position (1)",
     "output_type": "error",
     "traceback": [
      "\u001b[0;31m---------------------------------------------------------------------------\u001b[0m",
      "\u001b[0;31mTypeError\u001b[0m                                 Traceback (most recent call last)",
      "\u001b[0;32m<ipython-input-41-b52abeee5f3a>\u001b[0m in \u001b[0;36m<module>\u001b[0;34m\u001b[0m\n\u001b[1;32m      1\u001b[0m \u001b[0mx\u001b[0m \u001b[0;34m=\u001b[0m \u001b[0mnp\u001b[0m\u001b[0;34m.\u001b[0m\u001b[0mrandom\u001b[0m\u001b[0;34m.\u001b[0m\u001b[0mrandom\u001b[0m\u001b[0;34m(\u001b[0m\u001b[0;36m5\u001b[0m\u001b[0;34m)\u001b[0m\u001b[0;34m\u001b[0m\u001b[0;34m\u001b[0m\u001b[0m\n\u001b[0;32m----> 2\u001b[0;31m \u001b[0mnp\u001b[0m\u001b[0;34m.\u001b[0m\u001b[0mndarray\u001b[0m\u001b[0;34m(\u001b[0m\u001b[0mmy_dft1D\u001b[0m\u001b[0;34m(\u001b[0m\u001b[0mx\u001b[0m\u001b[0;34m)\u001b[0m\u001b[0;34m,\u001b[0m \u001b[0mshape\u001b[0m\u001b[0;34m=\u001b[0m\u001b[0;34m(\u001b[0m\u001b[0;36m5\u001b[0m\u001b[0;34m,\u001b[0m\u001b[0;36m5\u001b[0m\u001b[0;34m)\u001b[0m\u001b[0;34m)\u001b[0m\u001b[0;34m\u001b[0m\u001b[0;34m\u001b[0m\u001b[0m\n\u001b[0m",
      "\u001b[0;31mTypeError\u001b[0m: Argument given by name ('shape') and position (1)"
     ]
    }
   ],
   "source": [
    "x = np.random.random(5)\n",
    "np.ndarray(my_dft1D(x), shape=(5,5))"
   ]
  },
  {
   "cell_type": "code",
   "execution_count": 54,
   "metadata": {},
   "outputs": [
    {
     "name": "stdout",
     "output_type": "stream",
     "text": [
      "[ 1.14767955+0.j          0.18250844-0.09136554j -0.38483359-0.29085156j\n",
      " -0.38483359+0.29085156j  0.18250844+0.09136554j]\n",
      "[(0.8741904099879944+0j), (0.09799564632546773-0.3514691687869678j), (-0.1635762330669445-0.45160444775254394j), (-0.1635762330669447+0.45160444775254394j)]\n"
     ]
    }
   ],
   "source": [
    "x = np.random.random(5)\n",
    "#np.allclose(my_dft1D(x), np.fft.fft(x))\n",
    "print(np.fft.fft(x))\n",
    "print(my_dft1D(x))"
   ]
  },
  {
   "cell_type": "code",
   "execution_count": 45,
   "metadata": {},
   "outputs": [],
   "source": [
    "def fft1D_1(x):\n",
    "  N = len(x)\n",
    "  if N <= 1: return x\n",
    "  even = fft1D_1(x[0::2])\n",
    "  odd =  fft1D_1(x[1::2])\n",
    "  T= [exp(-2j*pi*k/N)*odd[k] for k in range(N//2)]\n",
    "  return [even[k] + T[k] for k in range(N//2)] + [even[k] - T[k] for k in range(N//2)]"
   ]
  },
  {
   "cell_type": "code",
   "execution_count": 6,
   "metadata": {},
   "outputs": [],
   "source": [
    "def fft1D_2(x):\n",
    "  N = len(x)\n",
    "  if N <= 32: return dft1D(x)\n",
    "  even = fft1D_2(x[0::2])\n",
    "  odd =  fft1D_2(x[1::2])\n",
    "  T= [exp(-2j*pi*k/N)*odd[k] for k in range(N//2)]\n",
    "  return [even[k] + T[k] for k in range(N//2)] + [even[k] - T[k] for k in range(N//2)]\n",
    "\n"
   ]
  },
  {
   "cell_type": "code",
   "execution_count": 7,
   "metadata": {},
   "outputs": [
    {
     "name": "stdout",
     "output_type": "stream",
     "text": [
      "0.08913803100585938\n"
     ]
    }
   ],
   "source": [
    "x = np.random.random(1024)\n",
    "start_time = time.time()\n",
    "dft1D(x)\n",
    "end_time = time.time() - start_time\n",
    "print(end_time)\n",
    "\n"
   ]
  },
  {
   "cell_type": "code",
   "execution_count": null,
   "metadata": {},
   "outputs": [],
   "source": [
    "start_time = time.time()\n",
    "fft1D_1(x)\n",
    "end_time = time.time() - start_time\n",
    "print(end_time)\n",
    "\n"
   ]
  },
  {
   "cell_type": "code",
   "execution_count": null,
   "metadata": {},
   "outputs": [],
   "source": [
    "start_time = time.time()\n",
    "fft1D_2(x)\n",
    "end_time = time.time() - start_time\n",
    "print(end_time)"
   ]
  }
 ],
 "metadata": {
  "kernelspec": {
   "display_name": "Python 3",
   "language": "python",
   "name": "python3"
  },
  "language_info": {
   "codemirror_mode": {
    "name": "ipython",
    "version": 3
   },
   "file_extension": ".py",
   "mimetype": "text/x-python",
   "name": "python",
   "nbconvert_exporter": "python",
   "pygments_lexer": "ipython3",
   "version": "3.6.8"
  }
 },
 "nbformat": 4,
 "nbformat_minor": 2
}
